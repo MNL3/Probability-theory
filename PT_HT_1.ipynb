{
 "cells": [
  {
   "cell_type": "markdown",
   "id": "0d48bdb6-c4ff-4687-903b-413757974b6a",
   "metadata": {},
   "source": [
    "### Задача 1\n",
    "Из колоды в 52 карты извлекаются случайным образом 4 карты. \n",
    "\n",
    "\n"
   ]
  },
  {
   "cell_type": "markdown",
   "id": "eaee5e75-9423-48c6-b8b3-25ad3cc7916a",
   "metadata": {},
   "source": [
    "#### a) Найти вероятность того, что все карты – крести."
   ]
  },
  {
   "cell_type": "code",
   "execution_count": 1,
   "id": "4a1de333-477a-419b-92da-926d25e0299b",
   "metadata": {
    "tags": []
   },
   "outputs": [
    {
     "data": {
      "text/plain": [
       "6.0"
      ]
     },
     "execution_count": 1,
     "metadata": {},
     "output_type": "execute_result"
    }
   ],
   "source": [
    "import pandas as pd\n",
    "import numpy as np\n",
    "from scipy import special\n",
    "special.factorial(3)"
   ]
  },
  {
   "cell_type": "code",
   "execution_count": 2,
   "id": "19d71b41-95c2-4947-87b8-1b64ea0bf933",
   "metadata": {
    "tags": []
   },
   "outputs": [],
   "source": [
    "# P = m/n вероятность\n",
    "# n = n!/k!*(n-k)! все возможные сочетания (4 из 52)\n",
    "# m = n!/k!*(n-k)! благоприятные сочетания (4 из 13)"
   ]
  },
  {
   "cell_type": "code",
   "execution_count": 3,
   "id": "401e9e24-f129-4e66-863b-f4b08a8aece6",
   "metadata": {
    "tags": []
   },
   "outputs": [
    {
     "name": "stdout",
     "output_type": "stream",
     "text": [
      "Вероятность того, что все карты - крести = 0.0026\n"
     ]
    }
   ],
   "source": [
    "n = special.factorial(52) // (special.factorial(4) * special.factorial(52-4))\n",
    "m = special.factorial(13) // (special.factorial(4) * special.factorial(13-4))\n",
    "\n",
    "P = m/n\n",
    "\n",
    "print(f'Вероятность того, что все карты - крести = {P :.4f}')"
   ]
  },
  {
   "cell_type": "markdown",
   "id": "4e8c57b9-0ca2-4d8b-b065-8dc7f7befc1b",
   "metadata": {},
   "source": [
    "#### б) Найти вероятность, что среди 4-х карт окажется хотя бы один туз."
   ]
  },
  {
   "cell_type": "code",
   "execution_count": 4,
   "id": "6ee59e7a-7f1c-40e0-bd33-c751fb5fa3aa",
   "metadata": {
    "tags": []
   },
   "outputs": [
    {
     "name": "stdout",
     "output_type": "stream",
     "text": [
      "Вероятность того, что из 4-х карт окажется хотя бы один туз = 0.28\n"
     ]
    }
   ],
   "source": [
    "P = 1 - ((48/52)*(47/51)*(46/50)*(45/49))\n",
    "\n",
    "print(f'Вероятность того, что из 4-х карт окажется хотя бы один туз = {P :.2f}')"
   ]
  },
  {
   "cell_type": "markdown",
   "id": "8d7d09d3-bb9b-4e39-9dba-c4280f6cd05d",
   "metadata": {},
   "source": [
    "### Задача 2\n",
    "На входной двери подъезда установлен кодовый замок, содержащий десять кнопок с цифрами от 0 до 9. Код содержит три цифры, которые нужно нажать одновременно. Какова вероятность того, что человек, не знающий код, откроет дверь с первой попытки?"
   ]
  },
  {
   "cell_type": "code",
   "execution_count": 5,
   "id": "1c07b38b-45a3-4a07-a79a-5c52a01dc44f",
   "metadata": {
    "tags": []
   },
   "outputs": [
    {
     "name": "stdout",
     "output_type": "stream",
     "text": [
      "Вероятность того, что человек, не знающий код, откроет дверь с первой попытки = 0.0026\n"
     ]
    }
   ],
   "source": [
    "# P = m/n вероятность\n",
    "# m = 1 так как попытка открыть дверь одна\n",
    "# n = все возможные сочетания 3 из 10\n",
    "\n",
    "P = m/n\n",
    "\n",
    "m = 1\n",
    "n = special.factorial(10) // (special.factorial(3) * special.factorial(10-3))\n",
    "\n",
    "print(f'Вероятность того, что человек, не знающий код, откроет дверь с первой попытки = {P :.4f}')"
   ]
  },
  {
   "cell_type": "markdown",
   "id": "9fd053b3-3ec7-4b1e-8ec6-4e66db31a285",
   "metadata": {},
   "source": [
    "### Задача 3\n",
    "В ящике имеется 15 деталей, из которых 9 окрашены. Рабочий случайным образом извлекает 3 детали. Какова вероятность того, что все извлеченные детали окрашены?"
   ]
  },
  {
   "cell_type": "code",
   "execution_count": 6,
   "id": "750aa6ee-92de-4105-816b-bf61845d3c35",
   "metadata": {
    "tags": []
   },
   "outputs": [],
   "source": [
    "# P = m/n вероятность\n",
    "# n = n!/k!*(n-k)! все возможные сочетания (3 из 15)\n",
    "# m = n!/k!*(n-k)! благоприятные сочетания (3 из 9)"
   ]
  },
  {
   "cell_type": "code",
   "execution_count": 7,
   "id": "eb372baf-51d4-423e-b633-24e1950cd808",
   "metadata": {
    "tags": []
   },
   "outputs": [
    {
     "name": "stdout",
     "output_type": "stream",
     "text": [
      "Вероятность того, что все извлеченные детали окрашены = 0.0083\n"
     ]
    }
   ],
   "source": [
    "P = m/n\n",
    "\n",
    "n = special.factorial(15) // (special.factorial(3) * special.factorial(15-3))\n",
    "m = special.factorial(9) // (special.factorial(3) * special.factorial(9-3))\n",
    "\n",
    "print(f'Вероятность того, что все извлеченные детали окрашены = {P :.4f}')"
   ]
  },
  {
   "cell_type": "markdown",
   "id": "f81b37c0-ea5f-40ca-b937-15547ee38200",
   "metadata": {},
   "source": [
    "### Задача 4\n",
    "В лотерее 100 билетов. Из них 2 выигрышных. Какова вероятность того, что 2 приобретенных билета окажутся выигрышными?"
   ]
  },
  {
   "cell_type": "code",
   "execution_count": 8,
   "id": "17a96136-0c47-4ada-8b72-f7d53cb6c771",
   "metadata": {},
   "outputs": [],
   "source": [
    "# P = m/n вероятность\n",
    "# n = n!/k!*(n-k)! все возможные сочетания (2 из 100)\n",
    "# m = n!/k!*(n-k)! благоприятные сочетания (2 из 2)"
   ]
  },
  {
   "cell_type": "code",
   "execution_count": 9,
   "id": "23d64860-e5a4-4422-9b23-0b827f3abff4",
   "metadata": {
    "tags": []
   },
   "outputs": [
    {
     "name": "stdout",
     "output_type": "stream",
     "text": [
      "Вероятность того, что 2 приобретенных билета окажутся выигрышными = 0.1846\n"
     ]
    }
   ],
   "source": [
    "P = m/n\n",
    "\n",
    "n = special.factorial(100) // (special.factorial(2) * special.factorial(100-2))\n",
    "m = special.factorial(2) // (special.factorial(2) * special.factorial(2-2))\n",
    "\n",
    "print(f'Вероятность того, что 2 приобретенных билета окажутся выигрышными = {P :.4f}')"
   ]
  },
  {
   "cell_type": "code",
   "execution_count": null,
   "id": "31e58dd8-7b1f-483b-a41c-5f3d3724bdcd",
   "metadata": {},
   "outputs": [],
   "source": []
  }
 ],
 "metadata": {
  "kernelspec": {
   "display_name": "Python 3 (ipykernel)",
   "language": "python",
   "name": "python3"
  },
  "language_info": {
   "codemirror_mode": {
    "name": "ipython",
    "version": 3
   },
   "file_extension": ".py",
   "mimetype": "text/x-python",
   "name": "python",
   "nbconvert_exporter": "python",
   "pygments_lexer": "ipython3",
   "version": "3.11.0"
  }
 },
 "nbformat": 4,
 "nbformat_minor": 5
}
